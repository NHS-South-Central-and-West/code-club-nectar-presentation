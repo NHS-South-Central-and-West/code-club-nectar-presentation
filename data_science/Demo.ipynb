{
 "cells": [
  {
   "cell_type": "markdown",
   "id": "8db76dc1",
   "metadata": {},
   "source": [
    "# Simple Regression Example\n",
    "\n",
    "### This demonstration uses synthesised test data, synthesised using England census data."
   ]
  },
  {
   "cell_type": "code",
   "execution_count": null,
   "id": "ddc95952-73bb-42c5-8b53-56f5ad6d14d8",
   "metadata": {},
   "outputs": [],
   "source": [
    "import pandas as pd # for dataframe manipulation\n",
    "import numpy as np # for vectorising and working with arrays\n",
    "\n",
    "# sklearn models\n",
    "from sklearn.linear_model import LinearRegression # Linear Model\n",
    "from sklearn.dummy import DummyRegressor # Dummy models to test if a regression is worth it\n",
    "# sklearn metrics\n",
    "from sklearn.metrics import accuracy_score \n",
    "from sklearn.metrics import r2_score\n",
    "from sklearn.metrics import mean_squared_error\n",
    "from sklearn.metrics import root_mean_squared_error\n",
    "# sklearn splitter for splitting data prior to testing\n",
    "from sklearn.model_selection import train_test_split\n",
    "\n",
    "# plotting and charting results\n",
    "import matplotlib.pyplot as plt\n",
    "import seaborn as sns\n",
    "%matplotlib inline"
   ]
  },
  {
   "cell_type": "code",
   "execution_count": null,
   "id": "65290dc5-053c-4221-b422-7be1ac33bfe2",
   "metadata": {},
   "outputs": [],
   "source": [
    "# Load data from csv\n",
    "df = pd.read_csv('demo.csv', sep='\\t', encoding='utf-8')"
   ]
  },
  {
   "cell_type": "code",
   "execution_count": null,
   "id": "ad2c2a2e",
   "metadata": {},
   "outputs": [],
   "source": [
    "# check column info\n",
    "df.info()"
   ]
  },
  {
   "cell_type": "code",
   "execution_count": null,
   "id": "233daef1-5d92-4fa4-8af1-d1b6a8455c4b",
   "metadata": {},
   "outputs": [],
   "source": [
    "# Check first 5 rows using head function\n",
    "df.head(5)"
   ]
  },
  {
   "cell_type": "code",
   "execution_count": null,
   "id": "e0e0bbea-3015-4434-83ef-d6f70194e215",
   "metadata": {},
   "outputs": [],
   "source": [
    "# Check number of columns and rows using shape\n",
    "df.shape"
   ]
  },
  {
   "cell_type": "code",
   "execution_count": null,
   "id": "9f4619e0-9b56-49d8-8378-97d58537d71b",
   "metadata": {},
   "outputs": [],
   "source": [
    "# Check for nulls\n",
    "df[df.isnull().any(axis=1)].head()"
   ]
  },
  {
   "cell_type": "code",
   "execution_count": null,
   "id": "0b1bc561-5ead-4f87-aefd-b9cd7af045d4",
   "metadata": {},
   "outputs": [],
   "source": [
    " # delete column 'Unnamed: 0' as looks like an index with no bearing on task.\n",
    "del df['Unnamed: 0']"
   ]
  },
  {
   "cell_type": "code",
   "execution_count": null,
   "id": "b0068252",
   "metadata": {},
   "outputs": [],
   "source": [
    "# Check descriptive statistics for numeric columns\n",
    "df.describe()"
   ]
  },
  {
   "cell_type": "markdown",
   "id": "7c891b5f-25ff-4c87-a799-c4b67d2a6d88",
   "metadata": {},
   "source": [
    "## Linear regression to predict the number of A&E attendences unpaid carers might have in a 12 month period."
   ]
  },
  {
   "cell_type": "markdown",
   "id": "edd47f38-e6f5-4f65-9dcd-9638e1562fb8",
   "metadata": {},
   "source": [
    "### Exploritory Data Analysis"
   ]
  },
  {
   "cell_type": "code",
   "execution_count": null,
   "id": "e1af089d",
   "metadata": {},
   "outputs": [],
   "source": [
    "# Set up plot array (2*2)\n",
    "fig, axes = plt.subplots(2, 2, figsize=(10,8))\n",
    "fig.suptitle('box plots for numerical column distributions')\n",
    "\n",
    "# Plotting the charts\n",
    "sns.boxplot(data=df['age'], ax=axes[0, 0], color='lavender')\n",
    "axes[0, 0].set_title('Age')\n",
    "axes[0, 0].set(ylabel=None)\n",
    "sns.boxplot(data=df['unpaid_care_hours_week'], ax=axes[0, 1], color='turquoise')\n",
    "axes[0, 1].set_title('Unpaid care hours per week')\n",
    "axes[0, 1].set(ylabel=None)\n",
    "sns.boxplot(data=df['care_months'], ax=axes[1, 0], color='coral')\n",
    "axes[1, 0].set_title('Months of unpaid caring')\n",
    "axes[1, 0].set(ylabel=None)\n",
    "sns.boxplot(data=df['ae_atts_last_12m'], ax=axes[1, 1], color='plum')\n",
    "axes[1, 1].set_title('A&E attendances in last 12 months')\n",
    "axes[1, 1].set(ylabel=None)"
   ]
  },
  {
   "cell_type": "code",
   "execution_count": null,
   "id": "99399d58",
   "metadata": {},
   "outputs": [],
   "source": [
    "# Create dictionary of existing column names to plain english names\n",
    "col_map = {\n",
    "    'age': 'Age',\n",
    "    'care_months': 'Months Caring',\n",
    "    'unpaid_care_hours_week': 'Weekly Hours on Care',\n",
    "    'ae_atts_last_12m': 'Emergency attendances'\n",
    "}"
   ]
  },
  {
   "cell_type": "code",
   "execution_count": null,
   "id": "a6bc0670",
   "metadata": {},
   "outputs": [],
   "source": [
    "# Create a streamlined dataset which can be used forr charting\n",
    "df_hm = df[['age', 'care_months','unpaid_care_hours_week','ae_atts_last_12m']].copy()\n",
    "df_hm.rename(columns=col_map, inplace=True)"
   ]
  },
  {
   "cell_type": "code",
   "execution_count": null,
   "id": "9b9cfb0b-e760-4e77-a2e3-3a62437cab95",
   "metadata": {
    "scrolled": true
   },
   "outputs": [],
   "source": [
    "# Using pairplot we'll visualize the data for correlation\n",
    "g = sns.pairplot(\n",
    "    data=df_hm,\n",
    "    x_vars=['Age', 'Months Caring','Weekly Hours on Care'],\n",
    "    y_vars='Emergency attendances',\n",
    "    height=4,\n",
    "    aspect=1,\n",
    "    kind='scatter')\n",
    "g.fig.suptitle(\"Figure 1: Relationship of features to Emergency Attendances\", y=1.08) # y= some height>1\n",
    "\n",
    "\n",
    "plt.show()"
   ]
  },
  {
   "cell_type": "code",
   "execution_count": null,
   "id": "18639d55-853e-48b6-8927-d00f9915fa67",
   "metadata": {},
   "outputs": [],
   "source": [
    "# Visualizing the data using heatmap to see the relationships between columns\n",
    "ax = plt.axes()\n",
    "sns.heatmap(df_hm.corr(), cmap=\"YlGnBu\", annot = True, ax = ax)\n",
    "\n",
    "ax.set_title('Figure 2: strength of relationships')\n",
    "plt.show()"
   ]
  },
  {
   "cell_type": "markdown",
   "id": "7bf5edd9-5e2a-425e-a699-dc3b33fb4aa4",
   "metadata": {},
   "source": [
    "From the above heatmap it can be seen that while Months is the highest predictor for Emergency Attendances, it is closely followed by Weekly Hours Caring. Though Age is the lowest predictor and is just below 50% it is not that much further behind."
   ]
  },
  {
   "cell_type": "markdown",
   "id": "34bf7f8f-5393-4f8f-9c86-e256b8fa9787",
   "metadata": {},
   "source": [
    "Building a model"
   ]
  },
  {
   "cell_type": "code",
   "execution_count": null,
   "id": "a65ee057-fa39-4011-9b79-2db9090f78bc",
   "metadata": {},
   "outputs": [],
   "source": [
    "# Feature Data\n",
    "X = df[['age', 'care_months','unpaid_care_hours_week']]\n",
    "\n",
    "# Target Data\n",
    "y = df['ae_atts_last_12m']"
   ]
  },
  {
   "cell_type": "code",
   "execution_count": null,
   "id": "fdf0c868-4c1a-467b-9488-224e0363f9ac",
   "metadata": {},
   "outputs": [],
   "source": [
    "# Split data to test and train sets\n",
    "X_train,X_test,y_train,y_test = train_test_split(X,y,test_size=0.15,random_state=324)"
   ]
  },
  {
   "cell_type": "code",
   "execution_count": null,
   "id": "c4e5c65a",
   "metadata": {},
   "outputs": [],
   "source": [
    "# Define the Dummy Model\n",
    "dummy_model = DummyRegressor(strategy=\"mean\")\n",
    "dummy_model.fit(X_train,y_train)"
   ]
  },
  {
   "cell_type": "code",
   "execution_count": null,
   "id": "48e2777b",
   "metadata": {},
   "outputs": [],
   "source": [
    "# Create dummy predictions\n",
    "y_pred_dummy = dummy_model.predict(X_test)"
   ]
  },
  {
   "cell_type": "code",
   "execution_count": null,
   "id": "54ac509e-ea92-433f-a81a-6ae3a14ae9d1",
   "metadata": {},
   "outputs": [],
   "source": [
    "# Define the Linear Regression Model\n",
    "regressor = LinearRegression()\n",
    "regressor.fit(X_train,y_train)"
   ]
  },
  {
   "cell_type": "code",
   "execution_count": null,
   "id": "761876a6-4415-4f7e-b965-7a9bf58bff83",
   "metadata": {},
   "outputs": [],
   "source": [
    "# Check Linear model Y intercept and coefficients for 'age', 'care_months','unpaid_care_hours_week'\n",
    "## note this is not possible with DummyRegressor\n",
    "print(regressor.intercept_)\n",
    "print(regressor.coef_)"
   ]
  },
  {
   "cell_type": "code",
   "execution_count": null,
   "id": "39fea9cf-c6d2-4253-a802-2054ea71ce73",
   "metadata": {},
   "outputs": [],
   "source": [
    "# Create dummy predictions\n",
    "y_pred = regressor.predict(X_test)"
   ]
  },
  {
   "cell_type": "code",
   "execution_count": null,
   "id": "4ccb3218",
   "metadata": {},
   "outputs": [],
   "source": [
    "# Score the dummy model to see performance\n",
    "r2_dummy = r2_score(y_test,y_pred_dummy)\n",
    "rmse_dummy = root_mean_squared_error(y_test,y_pred_dummy)\n",
    "nrmse_dummy = rmse_dummy / (np.max(y_test) - np.min(y_test))\n",
    "print(\"Dummy scores\")\n",
    "print(f'R squared score: {r2_dummy}')\n",
    "print(f'Root Mean Squared Error: {rmse_dummy}')\n",
    "print(f'y_test range:{(np.max(y_test) - np.min(y_test))}')\n",
    "print(f'Normalised root Mean Squared Error: {nrmse_dummy}')"
   ]
  },
  {
   "cell_type": "code",
   "execution_count": null,
   "id": "2d986b0e-2ff8-48ca-94d7-870b1b0387a8",
   "metadata": {},
   "outputs": [],
   "source": [
    "# Score the linear model to see performance\n",
    "r2 = r2_score(y_test,y_pred)\n",
    "rmse = root_mean_squared_error(y_test,y_pred)\n",
    "nrmse = rmse / (np.max(y_test) - np.min(y_test))\n",
    "print(\"Linear scores\")\n",
    "print(f'R squared score: {r2}')\n",
    "print(f'Root Mean Squared Error: {rmse}')\n",
    "print(f'y_test range:{(np.max(y_test) - np.min(y_test))}')\n",
    "print(f'Normalised root Mean Squared Error: {nrmse}')"
   ]
  },
  {
   "cell_type": "markdown",
   "id": "75a67dfc",
   "metadata": {},
   "source": [
    "## Let's test the regressor"
   ]
  },
  {
   "cell_type": "code",
   "execution_count": null,
   "id": "4d113b49",
   "metadata": {},
   "outputs": [],
   "source": [
    "# Get a test row from the test set\n",
    "test = X_test.iloc[100]\n",
    "expected = y_test.iloc[100]\n",
    "print(f'Using the values Age: {test.iloc[0]}, care_months: {test.iloc[2]}, unpaid_care_hours_week: {test.iloc[2]} we expect the result {expected} emergency attendances')"
   ]
  },
  {
   "cell_type": "code",
   "execution_count": null,
   "id": "cbb3a541",
   "metadata": {},
   "outputs": [],
   "source": [
    "# use test in model\n",
    "t_pred = regressor.predict(test.to_frame().transpose())\n",
    "print(f\"Predicted {t_pred} emergency attendances\")"
   ]
  }
 ],
 "metadata": {
  "kernelspec": {
   "display_name": ".venv",
   "language": "python",
   "name": "python3"
  },
  "language_info": {
   "codemirror_mode": {
    "name": "ipython",
    "version": 3
   },
   "file_extension": ".py",
   "mimetype": "text/x-python",
   "name": "python",
   "nbconvert_exporter": "python",
   "pygments_lexer": "ipython3",
   "version": "3.12.7"
  }
 },
 "nbformat": 4,
 "nbformat_minor": 5
}
