{
 "cells": [
  {
   "cell_type": "code",
   "execution_count": null,
   "metadata": {
    "_cell_guid": "b1076dfc-b9ad-4769-8c92-a6c4dae69d19",
    "_kg_hide-output": true,
    "_uuid": "8f2839f25d086af736a60e9eeb907d3b93b6e0e5",
    "execution": {
     "iopub.execute_input": "2024-12-12T11:41:16.340022Z",
     "iopub.status.busy": "2024-12-12T11:41:16.339541Z",
     "iopub.status.idle": "2024-12-12T11:41:16.348898Z",
     "shell.execute_reply": "2024-12-12T11:41:16.347583Z",
     "shell.execute_reply.started": "2024-12-12T11:41:16.339984Z"
    },
    "trusted": true
   },
   "outputs": [
    {
     "ename": "",
     "evalue": "",
     "output_type": "error",
     "traceback": [
      "\u001b[1;31mRunning cells with '.venv (Python 3.12.9)' requires the ipykernel package.\n",
      "\u001b[1;31mInstall 'ipykernel' into the Python environment. \n",
      "\u001b[1;31mCommand: 'c:/Users/jonas.willemsen/GitHub/nectar_presentation/visualisation/.venv/Scripts/python.exe -m pip install ipykernel -U --force-reinstall'"
     ]
    }
   ],
   "source": [
    "# install necessary packages\n",
    "import matplotlib.pyplot as plt\n",
    "from matplotlib import rcParams\n",
    "import numpy as np\n",
    "import pandas as pd\n",
    "import seaborn as sns\n",
    "\n",
    "# suppress some annoying warnings\n",
    "import warnings\n",
    "warnings.simplefilter(action='ignore', category=FutureWarning) \n",
    "\n",
    "sns.set_theme(style='darkgrid') # If we don't call this, we just get default matplotlib styling\n",
    "sns.set_context(\"notebook\") # Set an overall scale. Notebook is the default. In increasing size: paper, notebook, talk, poster.\n",
    "rcParams['font.sans-serif'] = ['Calibri','Segoe UI','Arial'] # use a nicer font in matplotlib (if available)"
   ]
  },
  {
   "cell_type": "code",
   "execution_count": null,
   "metadata": {
    "_cell_guid": "b1076dfc-b9ad-4769-8c92-a6c4dae69d19",
    "_uuid": "8f2839f25d086af736a60e9eeb907d3b93b6e0e5",
    "execution": {
     "iopub.execute_input": "2024-12-12T11:41:16.364387Z",
     "iopub.status.busy": "2024-12-12T11:41:16.363180Z",
     "iopub.status.idle": "2024-12-12T11:41:16.783807Z",
     "shell.execute_reply": "2024-12-12T11:41:16.782863Z",
     "shell.execute_reply.started": "2024-12-12T11:41:16.364337Z"
    },
    "trusted": true
   },
   "outputs": [],
   "source": [
    "# import the dataset.\n",
    "# this data comes from Kaggle and contains weather data for major cities in Australia going back some years.\n",
    "df = pd.read_csv('data/weatherAUS.csv')"
   ]
  },
  {
   "cell_type": "code",
   "execution_count": null,
   "metadata": {
    "execution": {
     "iopub.execute_input": "2024-12-12T11:41:16.786022Z",
     "iopub.status.busy": "2024-12-12T11:41:16.785631Z",
     "iopub.status.idle": "2024-12-12T11:41:16.822070Z",
     "shell.execute_reply": "2024-12-12T11:41:16.820964Z",
     "shell.execute_reply.started": "2024-12-12T11:41:16.785984Z"
    },
    "trusted": true
   },
   "outputs": [],
   "source": [
    "df.head(5)"
   ]
  },
  {
   "cell_type": "code",
   "execution_count": null,
   "metadata": {
    "execution": {
     "iopub.execute_input": "2024-12-12T11:41:16.823732Z",
     "iopub.status.busy": "2024-12-12T11:41:16.823413Z",
     "iopub.status.idle": "2024-12-12T11:41:16.954300Z",
     "shell.execute_reply": "2024-12-12T11:41:16.952736Z",
     "shell.execute_reply.started": "2024-12-12T11:41:16.823700Z"
    },
    "trusted": true
   },
   "outputs": [],
   "source": [
    "# convert date column to datetime\n",
    "df['Date'] = pd.to_datetime(df['Date'])\n",
    "\n",
    "# drop the partial years (2007,2017)\n",
    "df['year'] = df['Date'].dt.year\n",
    "df = df[~df['year'].isin([2007,2017])]\n",
    "\n",
    "# convert 'RainTomorrow' to a numeric variable, where 'Yes' = 1 and 'No' = 0.\n",
    "df['RainToday']=df['RainToday'].replace({'Yes': 1, 'No': 0, 'NA':0}).fillna(0).astype(int)\n",
    "df['RainTomorrow']=df['RainTomorrow'].map({'Yes': 1, 'No': 0,'NA': 0}).fillna(0).astype(int); \n",
    "\n",
    "# little tip: the semicolon suppresses textual output when we don't want it"
   ]
  },
  {
   "cell_type": "markdown",
   "metadata": {},
   "source": [
    "# Pivoting, summarising and filtering data"
   ]
  },
  {
   "cell_type": "code",
   "execution_count": null,
   "metadata": {
    "execution": {
     "iopub.execute_input": "2024-12-12T11:41:16.966858Z",
     "iopub.status.busy": "2024-12-12T11:41:16.966538Z",
     "iopub.status.idle": "2024-12-12T11:41:17.617691Z",
     "shell.execute_reply": "2024-12-12T11:41:17.616461Z",
     "shell.execute_reply.started": "2024-12-12T11:41:16.966827Z"
    },
    "trusted": true
   },
   "outputs": [],
   "source": [
    "# we need a month order for our \"mmm\" months - there is probably an official way of doing this...\n",
    "month_order = ['Jan', 'Feb', 'Mar', 'Apr', 'May', 'Jun', 'Jul', 'Aug', 'Sep', 'Oct', 'Nov', 'Dec']\n",
    "\n",
    "# build a month column\n",
    "df['month'] = df['Date'].dt.strftime('%b') # Add a column that just contains the month in mmm format\n",
    "df['month'] = pd.Categorical(df['month'], categories=month_order, ordered=True) # Make it categorical using our custom order so that it appears in the right order\n",
    "\n",
    "# we're going to filter to top 5 cities from now on\n",
    "df_top5Cities = df[df['Location'].isin(['Perth','Adelaide','Sydney','Melbourne','Brisbane'])]\n",
    "\n",
    "# a grouped dataframe with the number of rainy days per year and month, and location\n",
    "df_top5Cities_rainyDays = df_top5Cities.groupby(['Location','year', 'month'])['RainToday'].sum().reset_index()\n",
    "\n",
    "# a couple of fully-pivoted dataframes\n",
    "df_top5Cities_Rainfall_grouped = df_top5Cities.groupby(['Location', 'month'])['Rainfall'].mean().reset_index()\n",
    "df_top5Cities_Rainfall_pivoted = df_top5Cities_Rainfall_grouped.pivot(index=\"Location\",columns=\"month\", values=\"Rainfall\")\n",
    "df_top5Cities_rainyDays_pivoted = df_top5Cities.groupby(['Location', 'month'])['RainToday'].sum().reset_index().pivot(index=\"Location\",columns=\"month\", values=\"RainToday\")\n",
    "df_top5Cities_monthly_rainyDays_pivoted = df_top5Cities.groupby(['Location', 'month','year'])['RainToday'].sum().reset_index().groupby(['Location','month'])['RainToday'].mean().reset_index().pivot(index=\"Location\",columns=\"month\", values=\"RainToday\")\n",
    "\n",
    "\n",
    "# we need a sort order for our city names. This just returns an array with our city names in alphabetical order.\n",
    "colOrder_top5Cities=sorted(df_top5Cities['Location'].unique())"
   ]
  },
  {
   "cell_type": "code",
   "execution_count": null,
   "metadata": {},
   "outputs": [],
   "source": [
    "df_top5Cities_monthly_rainyDays_pivoted.head()"
   ]
  },
  {
   "cell_type": "code",
   "execution_count": null,
   "metadata": {
    "execution": {
     "iopub.execute_input": "2024-12-12T11:41:17.641096Z",
     "iopub.status.busy": "2024-12-12T11:41:17.640776Z",
     "iopub.status.idle": "2024-12-12T11:41:17.659249Z",
     "shell.execute_reply": "2024-12-12T11:41:17.657946Z",
     "shell.execute_reply.started": "2024-12-12T11:41:17.641064Z"
    },
    "trusted": true
   },
   "outputs": [],
   "source": [
    "# Calculate the date range dynamically; we're going to use this later...\n",
    "date_min = df['Date'].min().strftime('%Y')\n",
    "date_max = df['Date'].max().strftime('%Y')\n",
    "date_range = f\"{date_min} - {date_max}\"\n",
    "\n",
    "print(date_range)"
   ]
  },
  {
   "cell_type": "markdown",
   "metadata": {},
   "source": [
    "# Plotting with Seaborn\n",
    "https://seaborn.pydata.org/examples/index.html"
   ]
  },
  {
   "cell_type": "markdown",
   "metadata": {},
   "source": [
    "## The absolute basics"
   ]
  },
  {
   "cell_type": "code",
   "execution_count": null,
   "metadata": {},
   "outputs": [],
   "source": [
    "print(df_top5Cities_Rainfall_pivoted.T)"
   ]
  },
  {
   "cell_type": "code",
   "execution_count": null,
   "metadata": {
    "execution": {
     "iopub.execute_input": "2024-12-12T11:41:17.661227Z",
     "iopub.status.busy": "2024-12-12T11:41:17.660735Z",
     "iopub.status.idle": "2024-12-12T11:41:18.138845Z",
     "shell.execute_reply": "2024-12-12T11:41:18.137728Z",
     "shell.execute_reply.started": "2024-12-12T11:41:17.661178Z"
    },
    "trusted": true
   },
   "outputs": [],
   "source": [
    "sns.lineplot(data=df_top5Cities_Rainfall_pivoted.T) #.T gives the transpose"
   ]
  },
  {
   "cell_type": "markdown",
   "metadata": {},
   "source": [
    "## A tiny bit of customisation"
   ]
  },
  {
   "cell_type": "code",
   "execution_count": null,
   "metadata": {
    "execution": {
     "iopub.execute_input": "2024-12-12T11:41:18.140898Z",
     "iopub.status.busy": "2024-12-12T11:41:18.140440Z",
     "iopub.status.idle": "2024-12-12T11:41:18.882502Z",
     "shell.execute_reply": "2024-12-12T11:41:18.881394Z",
     "shell.execute_reply.started": "2024-12-12T11:41:18.140849Z"
    },
    "trusted": true
   },
   "outputs": [],
   "source": [
    "sns.barplot(data=df_top5Cities_Rainfall_grouped \n",
    "            ,x=\"month\"\n",
    "            ,y=\"Rainfall\"\n",
    "            ,hue=\"Location\" # read \"hue\" as \"series\"\n",
    "            ,palette=\"tab10\" # https://matplotlib.org/stable/users/explain/colors/colormaps.html\n",
    "           ).set(title='Average daily rainfall by month and city');"
   ]
  },
  {
   "cell_type": "markdown",
   "metadata": {},
   "source": [
    "## Heatmaps"
   ]
  },
  {
   "cell_type": "code",
   "execution_count": null,
   "metadata": {
    "execution": {
     "iopub.execute_input": "2024-12-12T11:41:18.887033Z",
     "iopub.status.busy": "2024-12-12T11:41:18.886534Z",
     "iopub.status.idle": "2024-12-12T11:41:19.361061Z",
     "shell.execute_reply": "2024-12-12T11:41:19.359912Z",
     "shell.execute_reply.started": "2024-12-12T11:41:18.886981Z"
    },
    "trusted": true
   },
   "outputs": [],
   "source": [
    "# We need to use some matplotlib code to set our output size, add a title, and capitalise our x-axis label\n",
    "f,ax = plt.subplots(figsize=(10, 5)) \n",
    "ax.set_title(f\"Average daily rainfall (/mm) each month ({date_range}) for Australia's top 5 cities\", fontsize=16, fontweight=\"bold\", pad=10)\n",
    "\n",
    "sns.heatmap(df_top5Cities_Rainfall_pivoted # Heatmap expects rectangular (pivot-like) data\n",
    "            ,annot=True # Put numbers inside the cells\n",
    "            ,fmt=\".1f\" # Make the numbers have 1 decimal place\n",
    "            ,square=True # Square vs rectangular cells\n",
    "            ,cbar=False # Get rid of the colourbar legend on the side\n",
    "            ,cmap=\"Blues\" # Seems appropriate for rainfall. Colourmaps reference: https://matplotlib.org/stable/users/explain/colors/colormaps.html \n",
    "            ,ax=ax # Tell it to use the matplotlib axes we created earlier\n",
    "           )\n",
    "\n",
    "ax.set(xlabel=\"Month\")\n",
    "plt.show()"
   ]
  },
  {
   "cell_type": "markdown",
   "metadata": {},
   "source": [
    "## Another heatmap with a bit more customisation"
   ]
  },
  {
   "cell_type": "code",
   "execution_count": null,
   "metadata": {
    "execution": {
     "iopub.execute_input": "2024-12-12T11:42:22.748266Z",
     "iopub.status.busy": "2024-12-12T11:42:22.747727Z",
     "iopub.status.idle": "2024-12-12T11:42:23.242033Z",
     "shell.execute_reply": "2024-12-12T11:42:23.240926Z",
     "shell.execute_reply.started": "2024-12-12T11:42:22.748223Z"
    },
    "trusted": true
   },
   "outputs": [],
   "source": [
    "# Setting up matplotlib subplots so that we can make some changes later\n",
    "f,ax = plt.subplots(figsize=(10, 5)) \n",
    "\n",
    "sns.heatmap(df_top5Cities_monthly_rainyDays_pivoted # Heatmap expects rectangular (pivot-like) data\n",
    "            ,annot=True # Put numbers inside the cells\n",
    "            ,fmt=\".0f\" # Force the number format\n",
    "            ,square=True # Square vs rectangular cells\n",
    "            ,cbar=False # Get rid of the colourbar legend on the side\n",
    "            ,cmap=\"crest\" # Colourmaps reference: https://matplotlib.org/stable/users/explain/colors/colormaps.html \n",
    "            ,ax=ax # Tell it to use the matplotlib axes we created earlier\n",
    "           )\n",
    "\n",
    "# We need to use some matplotlib code to set our output size, add a title, and capitalise our x-axis label\n",
    "ax.tick_params(axis='x', labelsize=11, rotation=45) # I think 45-degree month labels look nicer, but this is a matter of taste.\n",
    "ax.tick_params(axis='y', labelsize=11)\n",
    "\n",
    "# Manually changing our axis labels for more control\n",
    "ax.set_xlabel(\"Month\",fontweight=\"bold\",fontsize=12) \n",
    "ax.set_ylabel(\"City\",fontweight=\"bold\",fontsize=12)\n",
    "\n",
    "# Set our title dynamically\n",
    "ax.set_title(f\"Mean number of rainy days by month between {date_min} and {date_max} for Australia's top 5 cities\", fontsize=16, fontweight=\"bold\", pad=15);"
   ]
  },
  {
   "cell_type": "markdown",
   "metadata": {},
   "source": [
    "## A slightly fancier, multi-chart visual\n",
    "\n",
    "https://seaborn.pydata.org/generated/seaborn.FacetGrid.html\n",
    "\n",
    "https://seaborn.pydata.org/generated/seaborn.boxplot.html"
   ]
  },
  {
   "cell_type": "code",
   "execution_count": null,
   "metadata": {
    "execution": {
     "iopub.execute_input": "2024-12-12T11:41:19.839482Z",
     "iopub.status.busy": "2024-12-12T11:41:19.839142Z",
     "iopub.status.idle": "2024-12-12T11:41:25.122680Z",
     "shell.execute_reply": "2024-12-12T11:41:25.121532Z",
     "shell.execute_reply.started": "2024-12-12T11:41:19.839450Z"
    },
    "trusted": true
   },
   "outputs": [],
   "source": [
    "# Setting up the grid of box plots\n",
    "# Box plots are a bit of a rabbit hole and are extremely customisable; we're mostly using defaults here\n",
    "boxgrid = sns.FacetGrid(df_top5Cities \n",
    "                        ,col=\"Location\" # Defining the different facets\n",
    "                        ,col_wrap=5, height=4.5 # Layout and sizing for our facet grid\n",
    "                        ,col_order=colOrder_top5Cities  # Using our alphabetical order of city names to arrange our facets\n",
    ")\n",
    "boxgrid.map(sns.boxplot # This is what tells sns what sort of plots we want in our grid\n",
    "            ,\"month\" # X\n",
    "            ,\"MaxTemp\" # Y\n",
    "            ,linewidth=1.5\n",
    "            ,color=\"skyblue\"\n",
    "            ,order=month_order\n",
    "            ,fliersize=0 # Seaborn boxplots by default include markers for outliers, which it calls \"fliers\". For this chart we'd like to disable these.\n",
    "            ) \n",
    "\n",
    "# Setting up the grid of line plots\n",
    "# Using the default matplotlib plot here\n",
    "linegrid = sns.FacetGrid(df_top5Cities.groupby(['Location', 'month'])['Rainfall'].mean().reset_index()\n",
    "                         ,col=\"Location\" \n",
    "                         ,hue=\"Location\",palette=\"Set2\" \n",
    "                         ,col_wrap=5, height=4.5 \n",
    "                         ,col_order=colOrder_top5Cities\n",
    ")\n",
    "linegrid.map(plt.plot, \"month\", \"Rainfall\",marker=\"o\")\n",
    "\n",
    "# Formatting axes\n",
    "for ax in boxgrid.axes.flat:\n",
    "    ax.tick_params(axis='x', labelsize=9, rotation=45)\n",
    "    ax.tick_params(axis='y', labelsize=9)\n",
    "for ax in linegrid.axes.flat:\n",
    "    ax.tick_params(axis='x', labelsize=9, rotation=45)\n",
    "    ax.tick_params(axis='y', labelsize=9)\n",
    "\n",
    "linegrid.set_titles(col_template=\"{col_name}\",fontweight=\"bold\",fontsize=16)\n",
    "linegrid.set_axis_labels(\"Month\",\"Average rainfall /mm\",fontweight=\"bold\",fontsize=10)\n",
    "boxgrid.set_titles(col_template=\"{col_name}\",fontweight=\"bold\",fontsize=16)\n",
    "boxgrid.set_axis_labels(\"Month\",\"Max temp /$\\\\degree$C\",fontweight=\"bold\",fontsize=10)\n",
    "\n",
    "# Setting overall titles and spacing\n",
    "linegrid.fig.suptitle(f\"Mean daily rainfall by month for top 5 cities, {date_range}\", fontsize=16, color='black',fontweight='bold') \n",
    "boxgrid.fig.suptitle(f\"Max temperature by month for top 5 cities, {date_range}\", fontsize=16, color='black',fontweight='bold') \n",
    "linegrid.fig.subplots_adjust(top=0.85)  \n",
    "boxgrid.fig.subplots_adjust(top=0.85);"
   ]
  },
  {
   "cell_type": "markdown",
   "metadata": {},
   "source": [
    "## Alternatively, a 2-dimensional grid of location and year\n"
   ]
  },
  {
   "cell_type": "code",
   "execution_count": null,
   "metadata": {
    "execution": {
     "iopub.execute_input": "2024-12-12T11:41:25.124200Z",
     "iopub.status.busy": "2024-12-12T11:41:25.123861Z",
     "iopub.status.idle": "2024-12-12T11:41:45.514837Z",
     "shell.execute_reply": "2024-12-12T11:41:45.513552Z",
     "shell.execute_reply.started": "2024-12-12T11:41:25.124164Z"
    },
    "trusted": true
   },
   "outputs": [],
   "source": [
    "# Setting up the grid of box plots\n",
    "# Box plots are a bit of a rabbit hole and are extremely customisable; we're mostly using defaults here\n",
    "boxgrid = sns.FacetGrid(df_top5Cities \n",
    "                        ,col=\"Location\" # Defining the different facets\n",
    "                        ,row=\"year\"\n",
    "                        ,margin_titles=True\n",
    "                        ,height=2.2 # Layout and sizing for our facet grid\n",
    "                        ,aspect=1.5\n",
    "                        ,sharex=False\n",
    "                        ,col_order=colOrder_top5Cities  # Using our alphabetical order of city names to arrange our facets\n",
    ")\n",
    "boxgrid.map(sns.boxplot # This is what tells sns what sort of plots we want in our grid\n",
    "            ,\"month\" # X\n",
    "            ,\"MaxTemp\" # Y\n",
    "            ,color=\"skyblue\"\n",
    "            ,order=month_order\n",
    "            ,fliersize=0 # Seaborn boxplots by default include markers for outliers, which it calls \"fliers\". For this chart we'd like to disable these.\n",
    "            ) \n",
    "\n",
    "# Formatting axes\n",
    "for ax in boxgrid.axes.flat:\n",
    "    ax.tick_params(axis='x', labelsize=7, rotation=45)\n",
    "    ax.tick_params(axis='y', labelsize=7)\n",
    "\n",
    "#boxgrid.set_titles(col_template=\"{col_name}\",fontweight=\"bold\",fontsize=16)\n",
    "boxgrid.set_axis_labels(\"Month\",\"Max temp /$\\\\degree$C\",fontweight=\"bold\",fontsize=10)\n",
    "\n",
    "# Setting overall titles and spacing\n",
    "boxgrid.fig.suptitle(f\"Max temperature by month for top 5 cities, {date_range}\", fontsize=16, color='black',fontweight='bold') \n",
    "boxgrid.fig.subplots_adjust(top=0.95);"
   ]
  },
  {
   "cell_type": "markdown",
   "metadata": {},
   "source": [
    "## \"Small multiple\" time series grid"
   ]
  },
  {
   "cell_type": "code",
   "execution_count": null,
   "metadata": {
    "execution": {
     "iopub.execute_input": "2024-12-12T11:41:45.516503Z",
     "iopub.status.busy": "2024-12-12T11:41:45.516167Z",
     "iopub.status.idle": "2024-12-12T11:41:48.866930Z",
     "shell.execute_reply": "2024-12-12T11:41:48.865841Z",
     "shell.execute_reply.started": "2024-12-12T11:41:45.516471Z"
    },
    "trusted": true
   },
   "outputs": [],
   "source": [
    "# Credit to https://seaborn.pydata.org/examples/timeseries_facets.html\n",
    "\n",
    "df_Sydney = df[df['Location']==\"Sydney\"].groupby(['month', 'Location','year'], as_index=False)['MaxTemp'].max()\n",
    "sns.set_theme()\n",
    "\n",
    "#Plot each year's time series in its own facet\n",
    "g = sns.relplot(data=df_Sydney\n",
    "                ,x=\"month\"\n",
    "                ,y=\"MaxTemp\"\n",
    "                ,col=\"year\"\n",
    "                ,hue=\"year\"\n",
    "                ,kind=\"line\"\n",
    "                ,palette=\"viridis\"\n",
    "                ,linewidth=4\n",
    "                ,zorder=5\n",
    "                ,col_wrap=3, height=2, aspect=1.5, legend=False,\n",
    ")\n",
    "\n",
    "# Iterate over each subplot to customize further\n",
    "for year, ax in g.axes_dict.items():\n",
    "\n",
    "    # Add the title as an annotation within the plot\n",
    "    ax.text(.8\n",
    "            ,.85\n",
    "            ,year\n",
    "            ,transform=ax.transAxes\n",
    "            ,fontweight=\"bold\",fontsize=9)\n",
    "\n",
    "    # Plot every year's time series in the background\n",
    "    sns.lineplot(\n",
    "        data=df_Sydney, x=\"month\", y=\"MaxTemp\", units=\"year\",\n",
    "        estimator=None, color=\".7\", linewidth=1, ax=ax\n",
    "    )\n",
    "\n",
    "# Reduce the frequency of the x axis ticks\n",
    "ax.set_xticks(ax.get_xticks()[::2])\n",
    "\n",
    "# Tweak the supporting aspects of the plot\n",
    "g.set_titles(\"\")\n",
    "g.fig.suptitle(f\"Max temperature by month in Sydney, {date_range}\", fontsize=16, color='black',fontweight='bold') \n",
    "g.set_axis_labels(\"\", \"Max Temp /$\\\\degree \\\\mathrm{C}$\");\n",
    "g.tight_layout();"
   ]
  }
 ],
 "metadata": {
  "kaggle": {
   "accelerator": "none",
   "dataSources": [
    {
     "datasetId": 6012,
     "sourceId": 1733506,
     "sourceType": "datasetVersion"
    }
   ],
   "dockerImageVersionId": 30786,
   "isGpuEnabled": false,
   "isInternetEnabled": true,
   "language": "python",
   "sourceType": "notebook"
  },
  "kernelspec": {
   "display_name": ".venv",
   "language": "python",
   "name": "python3"
  },
  "language_info": {
   "codemirror_mode": {
    "name": "ipython",
    "version": 3
   },
   "file_extension": ".py",
   "mimetype": "text/x-python",
   "name": "python",
   "nbconvert_exporter": "python",
   "pygments_lexer": "ipython3",
   "version": "3.12.9"
  }
 },
 "nbformat": 4,
 "nbformat_minor": 4
}
